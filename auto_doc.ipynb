{
 "cells": [
  {
   "cell_type": "code",
   "execution_count": 1,
   "metadata": {},
   "outputs": [
    {
     "name": "stdout",
     "output_type": "stream",
     "text": [
      "\n",
      "    \"\"\"\n",
      "    Args\n",
      "    ----\n",
      "    - `metric_df` : DataFrame\n",
      "    - `data_file` : str\n",
      "    - `file` : str\n",
      "    \n",
      "    Returns\n",
      "    -------\n",
      "    - `________` : ???\n",
      "    \"\"\"\n"
     ]
    }
   ],
   "source": [
    "import back2\n",
    "\n",
    "func_str = \"\"\"\n",
    "\n",
    "def metric_df_filtering(metric_df:pd.DataFrame,data_file:str,file:str):\n",
    "\n",
    "\n",
    "\n",
    "\"\"\"\n",
    "import numpy\n",
    "FF = back2.func_doc(func_str)\n",
    "print(FF.write_doc())"
   ]
  }
 ],
 "metadata": {
  "kernelspec": {
   "display_name": "Python 3",
   "language": "python",
   "name": "python3"
  },
  "language_info": {
   "codemirror_mode": {
    "name": "ipython",
    "version": 3
   },
   "file_extension": ".py",
   "mimetype": "text/x-python",
   "name": "python",
   "nbconvert_exporter": "python",
   "pygments_lexer": "ipython3",
   "version": "3.10.0"
  },
  "orig_nbformat": 4
 },
 "nbformat": 4,
 "nbformat_minor": 2
}
